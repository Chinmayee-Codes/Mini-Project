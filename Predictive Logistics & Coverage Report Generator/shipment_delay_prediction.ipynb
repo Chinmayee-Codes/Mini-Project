{
 "cells": [
  {
   "cell_type": "markdown",
   "id": "9d8e7b0b",
   "metadata": {},
   "source": [
    "# 📦 Shipment Delay Prediction Using ML\n",
    "This notebook demonstrates how to predict shipment delays using geographical and news-based data."
   ]
  },
  {
   "cell_type": "code",
   "execution_count": 3,
   "id": "2e1eb25b",
   "metadata": {},
   "outputs": [
    {
     "data": {
      "text/html": [
       "<div>\n",
       "<style scoped>\n",
       "    .dataframe tbody tr th:only-of-type {\n",
       "        vertical-align: middle;\n",
       "    }\n",
       "\n",
       "    .dataframe tbody tr th {\n",
       "        vertical-align: top;\n",
       "    }\n",
       "\n",
       "    .dataframe thead th {\n",
       "        text-align: right;\n",
       "    }\n",
       "</style>\n",
       "<table border=\"1\" class=\"dataframe\">\n",
       "  <thead>\n",
       "    <tr style=\"text-align: right;\">\n",
       "      <th></th>\n",
       "      <th>shipment_id</th>\n",
       "      <th>source</th>\n",
       "      <th>destination</th>\n",
       "      <th>ship_date</th>\n",
       "      <th>delivery_date</th>\n",
       "      <th>weather_source</th>\n",
       "      <th>weather_destination</th>\n",
       "      <th>news_score</th>\n",
       "      <th>delay_in_days</th>\n",
       "    </tr>\n",
       "  </thead>\n",
       "  <tbody>\n",
       "    <tr>\n",
       "      <th>0</th>\n",
       "      <td>S001</td>\n",
       "      <td>Mumbai</td>\n",
       "      <td>Delhi</td>\n",
       "      <td>2024-05-01</td>\n",
       "      <td>2024-05-03</td>\n",
       "      <td>Clear</td>\n",
       "      <td>Rain</td>\n",
       "      <td>0.7</td>\n",
       "      <td>2</td>\n",
       "    </tr>\n",
       "    <tr>\n",
       "      <th>1</th>\n",
       "      <td>S002</td>\n",
       "      <td>Delhi</td>\n",
       "      <td>Bangalore</td>\n",
       "      <td>2024-05-02</td>\n",
       "      <td>2024-05-04</td>\n",
       "      <td>Clear</td>\n",
       "      <td>Clear</td>\n",
       "      <td>0.1</td>\n",
       "      <td>0</td>\n",
       "    </tr>\n",
       "    <tr>\n",
       "      <th>2</th>\n",
       "      <td>S003</td>\n",
       "      <td>Hyderabad</td>\n",
       "      <td>Chennai</td>\n",
       "      <td>2024-05-01</td>\n",
       "      <td>2024-05-05</td>\n",
       "      <td>Rain</td>\n",
       "      <td>Rain</td>\n",
       "      <td>0.8</td>\n",
       "      <td>1</td>\n",
       "    </tr>\n",
       "    <tr>\n",
       "      <th>3</th>\n",
       "      <td>S004</td>\n",
       "      <td>Mumbai</td>\n",
       "      <td>Kolkata</td>\n",
       "      <td>2024-05-03</td>\n",
       "      <td>2024-05-06</td>\n",
       "      <td>Clear</td>\n",
       "      <td>Storm</td>\n",
       "      <td>0.9</td>\n",
       "      <td>3</td>\n",
       "    </tr>\n",
       "    <tr>\n",
       "      <th>4</th>\n",
       "      <td>S005</td>\n",
       "      <td>Delhi</td>\n",
       "      <td>Mumbai</td>\n",
       "      <td>2024-05-04</td>\n",
       "      <td>2024-05-05</td>\n",
       "      <td>Clear</td>\n",
       "      <td>Clear</td>\n",
       "      <td>0.2</td>\n",
       "      <td>0</td>\n",
       "    </tr>\n",
       "  </tbody>\n",
       "</table>\n",
       "</div>"
      ],
      "text/plain": [
       "  shipment_id     source destination   ship_date delivery_date weather_source  \\\n",
       "0        S001     Mumbai       Delhi  2024-05-01    2024-05-03          Clear   \n",
       "1        S002      Delhi   Bangalore  2024-05-02    2024-05-04          Clear   \n",
       "2        S003  Hyderabad     Chennai  2024-05-01    2024-05-05           Rain   \n",
       "3        S004     Mumbai     Kolkata  2024-05-03    2024-05-06          Clear   \n",
       "4        S005      Delhi      Mumbai  2024-05-04    2024-05-05          Clear   \n",
       "\n",
       "  weather_destination  news_score  delay_in_days  \n",
       "0                Rain         0.7              2  \n",
       "1               Clear         0.1              0  \n",
       "2                Rain         0.8              1  \n",
       "3               Storm         0.9              3  \n",
       "4               Clear         0.2              0  "
      ]
     },
     "execution_count": 3,
     "metadata": {},
     "output_type": "execute_result"
    }
   ],
   "source": [
    "import pandas as pd\n",
    "\n",
    "# Load the dataset\n",
    "df = pd.read_csv(\"shipment_data.csv\")\n",
    "df.head()\n"
   ]
  },
  {
   "cell_type": "markdown",
   "id": "247d51fe",
   "metadata": {},
   "source": [
    "## 📰 News Risk Score Extraction using NewsAPI"
   ]
  },
  {
   "cell_type": "code",
   "execution_count": 4,
   "id": "4bb2a141",
   "metadata": {},
   "outputs": [
    {
     "name": "stdout",
     "output_type": "stream",
     "text": [
      "0\n"
     ]
    }
   ],
   "source": [
    "import requests\n",
    "import datetime\n",
    "\n",
    "def fetch_news_score(city_name, keywords=['strike', 'accident', 'protest'], days=3):\n",
    "    api_key = \"YOUR_NEWSAPI_KEY\"\n",
    "    endpoint = \"https://newsapi.org/v2/everything\"\n",
    "    from_date = (datetime.datetime.today() - datetime.timedelta(days=days)).strftime(\"%Y-%m-%d\")\n",
    "\n",
    "    query = f\"{city_name} AND ({' OR '.join(keywords)})\"\n",
    "\n",
    "    params = {\n",
    "        'q': query,\n",
    "        'from': from_date,\n",
    "        'sortBy': 'relevancy',\n",
    "        'language': 'en',\n",
    "        'apiKey': api_key\n",
    "    }\n",
    "\n",
    "    response = requests.get(endpoint, params=params)\n",
    "    data = response.json()\n",
    "\n",
    "    if data[\"status\"] == \"ok\":\n",
    "        article_count = len(data[\"articles\"])\n",
    "        return min(article_count / 10.0, 1.0)\n",
    "    else:\n",
    "        return 0\n",
    "\n",
    "# Example\n",
    "print(fetch_news_score(\"Mumbai\"))\n"
   ]
  },
  {
   "cell_type": "markdown",
   "id": "08569fdd",
   "metadata": {},
   "source": [
    "## 🌦️ Weather Data Integration using OpenWeatherMap API"
   ]
  },
  {
   "cell_type": "code",
   "execution_count": 5,
   "id": "49295dd5",
   "metadata": {},
   "outputs": [
    {
     "name": "stdout",
     "output_type": "stream",
     "text": [
      "(None, None)\n"
     ]
    }
   ],
   "source": [
    "import requests\n",
    "\n",
    "def fetch_weather(city_name):\n",
    "    api_key = \"YOUR_OPENWEATHERMAP_KEY\"\n",
    "    endpoint = f\"http://api.openweathermap.org/data/2.5/weather?q={city_name}&appid={api_key}&units=metric\"\n",
    "\n",
    "    response = requests.get(endpoint)\n",
    "    if response.status_code == 200:\n",
    "        data = response.json()\n",
    "        weather = data['weather'][0]['main']\n",
    "        temp = data['main']['temp']\n",
    "        return weather, temp\n",
    "    else:\n",
    "        return None, None\n",
    "\n",
    "# Example\n",
    "print(fetch_weather(\"Delhi\"))\n"
   ]
  },
  {
   "cell_type": "markdown",
   "id": "205a06ec",
   "metadata": {},
   "source": [
    "## 🚗 Traffic Delay Estimation using Google Maps API"
   ]
  },
  {
   "cell_type": "code",
   "execution_count": 6,
   "id": "2866d6f9",
   "metadata": {},
   "outputs": [
    {
     "name": "stdout",
     "output_type": "stream",
     "text": [
      "Unavailable\n"
     ]
    }
   ],
   "source": [
    "import requests\n",
    "\n",
    "def get_traffic_time(source, destination):\n",
    "    api_key = \"YOUR_GOOGLE_MAPS_API_KEY\"\n",
    "    endpoint = \"https://maps.googleapis.com/maps/api/distancematrix/json\"\n",
    "\n",
    "    params = {\n",
    "        'origins': source,\n",
    "        'destinations': destination,\n",
    "        'departure_time': 'now',\n",
    "        'key': api_key\n",
    "    }\n",
    "\n",
    "    response = requests.get(endpoint, params=params)\n",
    "    if response.status_code == 200:\n",
    "        data = response.json()\n",
    "        try:\n",
    "            duration = data['rows'][0]['elements'][0]['duration_in_traffic']['text']\n",
    "            return duration\n",
    "        except:\n",
    "            return \"Unavailable\"\n",
    "    else:\n",
    "        return \"Error\"\n",
    "\n",
    "# Example\n",
    "print(get_traffic_time(\"Mumbai\", \"Delhi\"))\n"
   ]
  },
  {
   "cell_type": "markdown",
   "id": "df6f24ca",
   "metadata": {},
   "source": [
    "## 🧠 Train ML Model to Predict Delays"
   ]
  },
  {
   "cell_type": "code",
   "execution_count": 7,
   "id": "0c5c29d2",
   "metadata": {},
   "outputs": [
    {
     "name": "stdout",
     "output_type": "stream",
     "text": [
      "              precision    recall  f1-score   support\n",
      "\n",
      "           0       1.00      1.00      1.00         1\n",
      "\n",
      "    accuracy                           1.00         1\n",
      "   macro avg       1.00      1.00      1.00         1\n",
      "weighted avg       1.00      1.00      1.00         1\n",
      "\n"
     ]
    }
   ],
   "source": [
    "from sklearn.model_selection import train_test_split\n",
    "from sklearn.ensemble import RandomForestClassifier\n",
    "from sklearn.metrics import classification_report\n",
    "\n",
    "# Create binary delay label\n",
    "df['delay_label'] = (df['delay_in_days'] > 0).astype(int)\n",
    "\n",
    "# Encode categorical features\n",
    "df = pd.get_dummies(df, columns=['source', 'destination', 'weather_source', 'weather_destination'])\n",
    "\n",
    "# Features and target\n",
    "X = df.drop(columns=[\"shipment_id\", \"ship_date\", \"delivery_date\", \"delay_in_days\", \"delay_label\"])\n",
    "y = df[\"delay_label\"]\n",
    "\n",
    "# Train/Test split\n",
    "X_train, X_test, y_train, y_test = train_test_split(X, y, test_size=0.2, random_state=42)\n",
    "\n",
    "# Train model\n",
    "model = RandomForestClassifier()\n",
    "model.fit(X_train, y_train)\n",
    "\n",
    "# Predict and evaluate\n",
    "y_pred = model.predict(X_test)\n",
    "print(classification_report(y_test, y_pred))\n"
   ]
  }
 ],
 "metadata": {
  "kernelspec": {
   "display_name": "base",
   "language": "python",
   "name": "python3"
  },
  "language_info": {
   "codemirror_mode": {
    "name": "ipython",
    "version": 3
   },
   "file_extension": ".py",
   "mimetype": "text/x-python",
   "name": "python",
   "nbconvert_exporter": "python",
   "pygments_lexer": "ipython3",
   "version": "3.12.7"
  }
 },
 "nbformat": 4,
 "nbformat_minor": 5
}
